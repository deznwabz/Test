{
 "cells": [
  {
   "cell_type": "markdown",
   "id": "fb41991c",
   "metadata": {},
   "source": [
    "# Data Science Tools and Ecosystem"
   ]
  },
  {
   "cell_type": "markdown",
   "id": "1580ef81",
   "metadata": {},
   "source": [
    "In this notebook, Data Science Tools and Ecosystem are summarized."
   ]
  },
  {
   "cell_type": "markdown",
   "id": "f733a11f",
   "metadata": {},
   "source": [
    "Objectives:\n",
    "- List popular languages for Data Science\n",
    "- List commonly used libraries by Data Scientist\n",
    "- List open source Data Science tools\n",
    "- Evaluate basic arithmetic expressions in Python"
   ]
  },
  {
   "cell_type": "markdown",
   "id": "942a7cb9",
   "metadata": {},
   "source": [
    "Some of the popular languages that Data Scientists use are:\n",
    "1. Python\n",
    "2. R\n",
    "3. SQL\n",
    "4. Ruby"
   ]
  },
  {
   "cell_type": "markdown",
   "id": "c21c1ebb",
   "metadata": {},
   "source": [
    "Some of the commonly used libraries used by Data Scientists include:\n",
    "1. Pandas\n",
    "2. Tensor flow\n",
    "3. Numpy\n",
    "4. Matplot"
   ]
  },
  {
   "cell_type": "markdown",
   "id": "f4e575b6",
   "metadata": {},
   "source": [
    "| Data Science Tools |\n",
    "|----- |\n",
    "| Anaconda |\n",
    "| MySql |\n",
    "| GitHub |\n",
    "| pixiedust |"
   ]
  },
  {
   "cell_type": "markdown",
   "id": "ca603c89",
   "metadata": {},
   "source": [
    "### Below are a few examples of evaluating arithmetic expressions in Python\n"
   ]
  },
  {
   "cell_type": "code",
   "execution_count": 3,
   "id": "4b4980e6",
   "metadata": {},
   "outputs": [
    {
     "data": {
      "text/plain": [
       "17"
      ]
     },
     "execution_count": 3,
     "metadata": {},
     "output_type": "execute_result"
    }
   ],
   "source": [
    "#This a simple arithmetic expression to mutiply then add integers\n",
    "(3*4)+5"
   ]
  },
  {
   "cell_type": "code",
   "execution_count": 4,
   "id": "65a4d1c4",
   "metadata": {},
   "outputs": [
    {
     "data": {
      "text/plain": [
       "3.3333333333333335"
      ]
     },
     "execution_count": 4,
     "metadata": {},
     "output_type": "execute_result"
    }
   ],
   "source": [
    "#This will convert 200 minutes to hours by diving by 60\n",
    "200/60"
   ]
  },
  {
   "cell_type": "markdown",
   "id": "08d7af4b",
   "metadata": {},
   "source": [
    "## Author\n",
    "Destiny Nwabueze"
   ]
  },
  {
   "cell_type": "code",
   "execution_count": null,
   "id": "2dbea753",
   "metadata": {},
   "outputs": [],
   "source": []
  }
 ],
 "metadata": {
  "kernelspec": {
   "display_name": "Python 3 (ipykernel)",
   "language": "python",
   "name": "python3"
  },
  "language_info": {
   "codemirror_mode": {
    "name": "ipython",
    "version": 3
   },
   "file_extension": ".py",
   "mimetype": "text/x-python",
   "name": "python",
   "nbconvert_exporter": "python",
   "pygments_lexer": "ipython3",
   "version": "3.11.5"
  }
 },
 "nbformat": 4,
 "nbformat_minor": 5
}
